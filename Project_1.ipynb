{
 "cells": [
  {
   "cell_type": "code",
   "execution_count": 1,
   "metadata": {},
   "outputs": [
    {
     "name": "stdout",
     "output_type": "stream",
     "text": [
      "Hello World, I am the Magic 8 Ball, What is your name?\n",
      "Anissa\n",
      "hello Anissa\n",
      "Ask me a question.\n",
      "Will i pass this class?\n",
      "Outlook good\n",
      "I hope that helped!\n",
      "Do you have another question? [Y/N] \n",
      "Y\n",
      "Ask me a question.\n",
      "Will my day be bad?\n",
      "Without a doubt\n",
      "I hope that helped!\n",
      "Do you have another question? [Y/N] \n",
      "N\n"
     ]
    }
   ],
   "source": [
    "\n",
    "print('Hello World, I am the Magic 8 Ball, What is your name?')\n",
    "name = input()\n",
    "print('hello ' + name)\n",
    "\n",
    "import random #insures that an answer will appear at random\n",
    "\n",
    "answers= ['It is certain', 'It is decidedly so', 'Without a doubt', 'Yes – definitely', 'You may rely on it', 'As I see it, yes', 'Most likely', 'Outlook good', 'Yes Signs point to yes', 'Reply hazy', 'try again', 'Ask again later', 'Better not tell you now', 'Cannot predict now', 'Concentrate and ask again', 'Dont count on it', 'My reply is no', 'My sources say no', 'Outlook not so good', 'Very doubtful']\n",
    "\n",
    "def Magic8Ball():\n",
    "    print('Ask me a question.')\n",
    "    input()\n",
    "    print(random.choice(answers))\n",
    "    print('I hope that helped!')\n",
    "    Replay()\n",
    "    \n",
    "\n",
    "def Replay():\n",
    "    print ('Do you have another question? [Y/N] ')\n",
    "    reply = input()\n",
    "    if reply == 'Y':\n",
    "        Magic8Ball()\n",
    "    elif reply == 'N':\n",
    "        exit()\n",
    "    else:\n",
    "        print('I apologize, I did not catch that. Please repeat.')\n",
    "        Replay()\n",
    "    \n",
    "Magic8Ball()"
   ]
  },
  {
   "cell_type": "code",
   "execution_count": null,
   "metadata": {},
   "outputs": [],
   "source": []
  }
 ],
 "metadata": {
  "kernelspec": {
   "display_name": "Python 3",
   "language": "python",
   "name": "python3"
  },
  "language_info": {
   "codemirror_mode": {
    "name": "ipython",
    "version": 3
   },
   "file_extension": ".py",
   "mimetype": "text/x-python",
   "name": "python",
   "nbconvert_exporter": "python",
   "pygments_lexer": "ipython3",
   "version": "3.6.6+"
  }
 },
 "nbformat": 4,
 "nbformat_minor": 2
}
